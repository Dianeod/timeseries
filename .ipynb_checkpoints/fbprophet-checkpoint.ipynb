{
 "cells": [
  {
   "cell_type": "markdown",
   "metadata": {},
   "source": [
    "## fb Prophet"
   ]
  },
  {
   "cell_type": "markdown",
   "metadata": {},
   "source": [
    "*This is an example of a very basic fbprophet model*"
   ]
  },
  {
   "cell_type": "markdown",
   "metadata": {},
   "source": [
    "Load in the ml library and FB Prophet Library"
   ]
  },
  {
   "cell_type": "code",
   "execution_count": null,
   "metadata": {},
   "outputs": [],
   "source": [
    "\\l ml/ml.q\n",
    "\\l ml/init.q\n",
    "p)from dateutil.easter import easter\n",
    "proph:.p.import[`fbprophet]`:Prophet"
   ]
  },
  {
   "cell_type": "markdown",
   "metadata": {},
   "source": [
    "Load in the dataset"
   ]
  },
  {
   "cell_type": "code",
   "execution_count": null,
   "metadata": {},
   "outputs": [],
   "source": [
    "show bikes:update date:\"d\"$timestamp from (\"PFFFFFFBFF\";enlist \",\")0:`:data/london_merged.csv"
   ]
  },
  {
   "cell_type": "markdown",
   "metadata": {},
   "source": [
    "When passing the data to the fbprophet module, it requires the following two columns to be present\n",
    "\n",
    " - ds = datetime values\n",
    " - y  = target values"
   ]
  },
  {
   "cell_type": "code",
   "execution_count": null,
   "metadata": {},
   "outputs": [],
   "source": [
    "show data:`ds`y xcol bikes"
   ]
  },
  {
   "cell_type": "markdown",
   "metadata": {},
   "source": [
    "The data is then split into  a training and testing set (Making sure that no time leakage occurs). \n",
    "\n",
    "80% is chosen as train, 20% is testing data."
   ]
  },
  {
   "cell_type": "code",
   "execution_count": null,
   "metadata": {},
   "outputs": [],
   "source": [
    "// Find the timestamp which splits the data 80/20\n",
    "split:min[data`ds]+.8*max[data`ds]-min[data`ds]\n",
    "\n",
    "train:select from data where ds<=split\n",
    "test:select from data where ds>split\n",
    "\n",
    "-1!\"There is \",string[count train],\" datapoints in he training set\"\n",
    "-1!\"There is \",string[count test],\" datapoints in he testing set\""
   ]
  },
  {
   "cell_type": "markdown",
   "metadata": {},
   "source": [
    "Initialise the prophet model and fit on the training set.\n",
    "The training set must be converted to a pandas dataframe"
   ]
  },
  {
   "cell_type": "code",
   "execution_count": null,
   "metadata": {},
   "outputs": [],
   "source": [
    "model:proph[];"
   ]
  },
  {
   "cell_type": "code",
   "execution_count": null,
   "metadata": {},
   "outputs": [],
   "source": [
    "model[`:add_regressor]each `t1`t2`hum`wind_speed`weather_code`is_holiday`is_weekend`season"
   ]
  },
  {
   "cell_type": "code",
   "execution_count": null,
   "metadata": {},
   "outputs": [],
   "source": [
    "model[`:fit][.ml.tab2df[train]];"
   ]
  },
  {
   "cell_type": "code",
   "execution_count": null,
   "metadata": {},
   "outputs": [],
   "source": [
    "model:proph[];\n",
    "{model[`:add_regressor][x]}each `t1`t2`hum`wind_speed`weather_code`is_holiday`is_weekend`season;\n",
    "\\ts model[`:fit][.ml.tab2df[train]];"
   ]
  },
  {
   "cell_type": "markdown",
   "metadata": {},
   "source": [
    "The model is now used to predict the y of the testing set. From the model prediction `forecast`, we are concerned with the following values\n",
    "\n",
    "\n",
    "Column                        | Explanation\n",
    "------------------------------|------------------------\n",
    "ds                            | datetimes \n",
    "trend                         | Predicts the trend of the model on that datetime\n",
    "yhat_lower                    | Lower confidence interval of predicted value\n",
    "yhat_upper                    | Upper confidence interval of predicted value\n",
    "yhat                          | The predictive value"
   ]
  },
  {
   "cell_type": "code",
   "execution_count": null,
   "metadata": {},
   "outputs": [],
   "source": [
    "data"
   ]
  },
  {
   "cell_type": "code",
   "execution_count": null,
   "metadata": {},
   "outputs": [],
   "source": [
    "// Create the future dataframe to predict on (corresponds wth testing set)\n",
    "/ freq  = the time frequency of the prediction (i.e hour, daily, weekly etc)\n",
    "/ period = how far into the future to make predictions on\n",
    "\\ts future:model[`:make_future_dataframe][`freq pykw \"H\";\n",
    "   `periods pykw count {x<max[test`ds]}{x+01:00:00.000}\\min[test`ds]]\n",
    "\n",
    "\n",
    "\\ts forecast:.ml.df2tab model[`:predict][.ml.tab2df delete y from data];\n",
    "\n",
    "select ds,trend,yhat_lower,yhat_upper,yhat from forecast"
   ]
  },
  {
   "cell_type": "markdown",
   "metadata": {},
   "source": [
    "The only value that we are concerned with is the prediction value `yhat` in order ot calculate the mean squared error (mse) between the real and predicted values.\n",
    "\n",
    "The testing data contains timestamps gaps, we are only extracting yhat values which corresponds to datetimes within the testing data in order to compare results"
   ]
  },
  {
   "cell_type": "code",
   "execution_count": null,
   "metadata": {},
   "outputs": [],
   "source": [
    "preds:exec yhat from forecast where ds in \"p\"$test[`ds]\n",
    "\n",
    "-1!\"The Mean squared log error is \",string .ml.rmsle[preds;test`y]"
   ]
  },
  {
   "cell_type": "markdown",
   "metadata": {},
   "source": [
    "The prediction model can be plotted.\n",
    "\n",
    " - Black dots : indicate the data points used to train the model.\n",
    " - Dark blue  : plots the prediction\n",
    " - Light blue : plots the uncertainty interval"
   ]
  },
  {
   "cell_type": "code",
   "execution_count": null,
   "metadata": {
    "scrolled": true
   },
   "outputs": [],
   "source": [
    "model[`:plot][.ml.tab2df forecast];\n",
    "p)import matplotlib.pyplot as plt\n",
    "p)plt.show()\n"
   ]
  },
  {
   "cell_type": "markdown",
   "metadata": {},
   "source": [
    "The  components of the predicted model can also be plotted:\n",
    "\n",
    " - trend  : plots the trend (along with predicted trend) by date. The light blue line signifies the uncertainty interval in the prediction\n",
    " - weekly : plots the weekly seasonality/trends\n",
    " - plots  : plots the daily seasonality/trends"
   ]
  },
  {
   "cell_type": "code",
   "execution_count": null,
   "metadata": {},
   "outputs": [],
   "source": [
    "model[`:plot_components][.ml.tab2df forecast];\n",
    "p)plt.show()"
   ]
  },
  {
   "cell_type": "markdown",
   "metadata": {},
   "source": [
    "## Daily min temp"
   ]
  },
  {
   "cell_type": "code",
   "execution_count": null,
   "metadata": {},
   "outputs": [],
   "source": [
    "show temp:`ds`y xcol (\"PF\";enlist\",\")0:`:data/dailytemp.csv"
   ]
  },
  {
   "cell_type": "code",
   "execution_count": null,
   "metadata": {},
   "outputs": [],
   "source": [
    "// Find the timestamp which splits the data 80/20\n",
    "split:min[temp`ds]+.8*max[temp`ds]-min[temp`ds]\n",
    "\n",
    "traintemp:select from temp where ds<=split\n",
    "testtemp:select from temp where ds>split\n",
    "\n",
    "-1!\"There is \",string[count traintemp],\" datapoints in he training set\"\n",
    "-1!\"There is \",string[count testtemp],\" datapoints in he testing set\""
   ]
  },
  {
   "cell_type": "code",
   "execution_count": null,
   "metadata": {},
   "outputs": [],
   "source": [
    "model:proph[`weekly_seasonality pykw 0b;`mcmc_samples pykw 5];\n",
    "\\ts model[`:fit][.ml.tab2df[traintemp]];"
   ]
  },
  {
   "cell_type": "code",
   "execution_count": null,
   "metadata": {},
   "outputs": [],
   "source": [
    "\\ts forecasttemp:.ml.df2tab model[`:predict][.ml.tab2df delete y from temp];\n",
    "\n",
    "select ds,trend,yhat_lower,yhat_upper,yhat from forecasttemp"
   ]
  },
  {
   "cell_type": "code",
   "execution_count": null,
   "metadata": {},
   "outputs": [],
   "source": [
    "predstemp:exec yhat from forecasttemp where ds in \"p\"$testtemp[`ds]\n",
    "\n",
    "-1!\"The Mean squared error is \",string .ml.mse[predstemp;testtemp`y]"
   ]
  },
  {
   "cell_type": "code",
   "execution_count": null,
   "metadata": {},
   "outputs": [],
   "source": []
  },
  {
   "cell_type": "code",
   "execution_count": null,
   "metadata": {},
   "outputs": [],
   "source": [
    "predstemp:exec yhat from forecasttemp where ds in \"p\"$testtemp[`ds]\n",
    "\n",
    "-1!\"The Mean squared error is \",string .ml.mse[predstemp;testtemp`y]"
   ]
  },
  {
   "cell_type": "code",
   "execution_count": null,
   "metadata": {},
   "outputs": [],
   "source": [
    "model[`:plot][.ml.tab2df forecasttemp];\n",
    "p)plt.show()"
   ]
  },
  {
   "cell_type": "code",
   "execution_count": null,
   "metadata": {},
   "outputs": [],
   "source": [
    "model[`:plot_components][.ml.tab2df forecasttemp];\n",
    "p)plt.show()"
   ]
  },
  {
   "cell_type": "markdown",
   "metadata": {},
   "source": [
    "## Ozone Layer"
   ]
  },
  {
   "cell_type": "code",
   "execution_count": null,
   "metadata": {},
   "outputs": [],
   "source": []
  }
 ],
 "metadata": {
  "kernelspec": {
   "display_name": "Q (kdb+)",
   "language": "q",
   "name": "qpk"
  },
  "language_info": {
   "file_extension": ".q",
   "mimetype": "text/x-q",
   "name": "q",
   "version": "3.6.0"
  }
 },
 "nbformat": 4,
 "nbformat_minor": 2
}
