{
 "cells": [
  {
   "cell_type": "markdown",
   "metadata": {},
   "source": [
    "## TBATS time series forecasting"
   ]
  },
  {
   "cell_type": "markdown",
   "metadata": {},
   "source": [
    "TBATS is an acronym for key features of the model:\n",
    "\n",
    "T: Trigonometric seasonality\n",
    "\n",
    "B: Box-Cox transformation (A Box Cox transformation is a way to transform non-normal dependent variables into a normal shape)\n",
    "\n",
    "A: ARIMA errors\n",
    "\n",
    "T: Trend\n",
    "\n",
    "S: Seasonal components"
   ]
  },
  {
   "cell_type": "markdown",
   "metadata": {},
   "source": [
    "Load in the ml library and TBATS"
   ]
  },
  {
   "cell_type": "code",
   "execution_count": 1,
   "metadata": {},
   "outputs": [],
   "source": [
    "\\l ml/ml.q\n",
    "\\l ml/init.q\n",
    "tbats:.p.import[`tbats]`:TBATS"
   ]
  },
  {
   "cell_type": "markdown",
   "metadata": {},
   "source": [
    "Load in the data"
   ]
  },
  {
   "cell_type": "code",
   "execution_count": null,
   "metadata": {},
   "outputs": [],
   "source": [
    "show bikes:update date:\"d\"$timestamp from (\"PFFFFFFBFF\";enlist \",\")0:`:data/london_merged.csv"
   ]
  },
  {
   "cell_type": "markdown",
   "metadata": {},
   "source": [
    "Fill in the missing datetimes in the data"
   ]
  },
  {
   "cell_type": "code",
   "execution_count": null,
   "metadata": {},
   "outputs": [],
   "source": [
    "show data:([]timestamp:{x<max bikes`timestamp}{x+01:00:00.000}\\min bikes`timestamp)lj `timestamp xkey bikes\n",
    "data:.ml.filltab[data;();`timestamp;::]"
   ]
  },
  {
   "cell_type": "markdown",
   "metadata": {},
   "source": [
    "### Initialise the dataset"
   ]
  },
  {
   "cell_type": "markdown",
   "metadata": {},
   "source": [
    "The model only takes the predicted values as input, The different period lengths (i.e days of the week, years, etc) can be added as a hyperparameter called seasonal_periods"
   ]
  },
  {
   "cell_type": "markdown",
   "metadata": {},
   "source": [
    "Hyper-parameters for this model include:\n",
    "\n",
    "Parameter        | Explanation\n",
    "-----------------|------------------------\n",
    "use_box_cox      | Boolean indicating to use box_cox or not\n",
    "box_cox_bounds   | Bounds associated if box_cox true\n",
    "use_trend        | Add trend to the data\n",
    "use_damped_trend | Add damped trend to the data\n",
    "seasonal_periods | Season periods, i.e days of the week, yearly  (7, 365.2) etc patterns seen\n",
    "use_arma_errors  | Boolean indicatin got use arma errors"
   ]
  },
  {
   "cell_type": "code",
   "execution_count": null,
   "metadata": {},
   "outputs": [],
   "source": [
    "model:tbats[`seasonal_periods pykw (24,7, 365.25)]\n",
    "mdlfit:model[`:fit][-100_data[`cnt]]"
   ]
  },
  {
   "cell_type": "markdown",
   "metadata": {},
   "source": [
    "Now use the model to predict the next 30 days results and calculate the root mean squared log error"
   ]
  },
  {
   "cell_type": "code",
   "execution_count": null,
   "metadata": {},
   "outputs": [],
   "source": [
    "preds:mdlfit[`:forecast][`steps pykw 100]`\n",
    "\n",
    "-1!\"The Mean squared error is \",string .ml.rmsle[preds;-100#data[`cnt]]"
   ]
  },
  {
   "cell_type": "code",
   "execution_count": null,
   "metadata": {},
   "outputs": [],
   "source": []
  },
  {
   "cell_type": "markdown",
   "metadata": {},
   "source": [
    "## Amazon Data"
   ]
  },
  {
   "cell_type": "code",
   "execution_count": 2,
   "metadata": {},
   "outputs": [
    {
     "name": "stdout",
     "output_type": "stream",
     "text": [
      "date       open high low  close volume  \n",
      "----------------------------------------\n",
      "1997.05.16 1.97 1.98 1.71 1.73  14700000\n",
      "1997.05.19 1.76 1.77 1.62 1.71  6106800 \n",
      "1997.05.20 1.73 1.75 1.64 1.64  5467200 \n",
      "1997.05.21 1.64 1.65 1.38 1.43  18853200\n",
      "1997.05.22 1.44 1.45 1.31 1.4   11776800\n",
      "\n",
      "Shape of data: 5170 x 6\n"
     ]
    }
   ],
   "source": [
    "show 5#amzndaydata:.ml.dropconstant lower[cols d]xcol d:(\"DFFFFJJ\";(),\",\")0:`:../mlnotebooks/data/amzn_day.us.txt\n",
    "-1\"\\nShape of data: \",a:\" x \"sv string .ml.shape amzndaydata;"
   ]
  },
  {
   "cell_type": "code",
   "execution_count": 3,
   "metadata": {},
   "outputs": [
    {
     "name": "stdout",
     "output_type": "stream",
     "text": [
      "ds         y    high low  close volume  \n",
      "----------------------------------------\n",
      "1997.05.16 1.97 1.98 1.71 1.73  14700000\n",
      "1997.05.19 1.76 1.77 1.62 1.71  6106800 \n",
      "1997.05.20 1.73 1.75 1.64 1.64  5467200 \n",
      "1997.05.21 1.64 1.65 1.38 1.43  18853200\n",
      "1997.05.22 1.44 1.45 1.31 1.4   11776800\n",
      "1997.05.23 1.41 1.52 1.33 1.5   15937200\n",
      "1997.05.27 1.51 1.65 1.46 1.58  8697600 \n",
      "1997.05.28 1.62 1.64 1.53 1.53  4574400 \n",
      "1997.05.29 1.54 1.54 1.48 1.51  3472800 \n",
      "1997.05.30 1.5  1.51 1.48 1.5   2594400 \n",
      "1997.06.02 1.51 1.53 1.5  1.51  591600  \n",
      "1997.06.03 1.53 1.53 1.48 1.48  1183200 \n",
      "1997.06.04 1.48 1.49 1.4  1.42  3080400 \n",
      "1997.06.05 1.42 1.54 1.38 1.54  5672400 \n",
      "1997.06.06 1.52 1.71 1.51 1.66  7807200 \n",
      "1997.06.09 1.66 1.71 1.66 1.69  2352000 \n",
      "1997.06.10 1.71 1.71 1.53 1.58  5458800 \n",
      "1997.06.11 1.59 1.6  1.53 1.54  1188000 \n",
      "1997.06.12 1.58 1.65 1.55 1.6   1632000 \n",
      "1997.06.13 1.62 1.62 1.58 1.58  693600  \n",
      "..\n"
     ]
    }
   ],
   "source": [
    "show amzndaydata:`ds`y xcol amzndaydata"
   ]
  },
  {
   "cell_type": "code",
   "execution_count": 0,
   "metadata": {},
   "outputs": [
    {
     "ename": "\u001b[0;31mamzndaydata\u001b[0m",
     "evalue": "\u001b[0;31mamzndaydata\u001b[0m",
     "output_type": "error",
     "traceback": [
      "\u001b[0;31mevaluation error:\n\u001b[0m",
      "\u001b[0;31mamzndaydata\u001b[0m",
      "\u001b[0;31m\u001b[0m",
      "\u001b[0;31m  [0]  amzndaydata\n       ^\n\u001b[0m"
     ]
    }
   ],
   "source": [
    "amzndaydata"
   ]
  },
  {
   "cell_type": "code",
   "execution_count": 4,
   "metadata": {},
   "outputs": [
    {
     "data": {
      "text/plain": [
       "\"There is 4134 datapoints in he training set\"\n"
      ]
     },
     "execution_count": 4,
     "metadata": {},
     "output_type": "execute_result"
    },
    {
     "data": {
      "text/plain": [
       "\"There is 1036 datapoints in he testing set\"\n"
      ]
     },
     "execution_count": 4,
     "metadata": {},
     "output_type": "execute_result"
    }
   ],
   "source": [
    "// Find the timestamp which splits the data 80/20\n",
    "split:min[amzndaydata`ds]+.8*max[amzndaydata`ds]-min[amzndaydata`ds]\n",
    "\n",
    "trainamz:select from amzndaydata where ds<=split\n",
    "testamz:select from amzndaydata where ds>split\n",
    "\n",
    "-1!\"There is \",string[count trainamz],\" datapoints in he training set\"\n",
    "-1!\"There is \",string[count testamz],\" datapoints in he testing set\""
   ]
  },
  {
   "cell_type": "code",
   "execution_count": 5,
   "metadata": {},
   "outputs": [
    {
     "name": "stderr",
     "output_type": "stream",
     "text": [
      "/home/mlteam/anaconda3/lib/python3.7/site-packages/tbats/transformation/BoxCox.py:38: RuntimeWarning: overflow encountered in power\n",
      "  return np.sign(yy) * (np.abs(yy) ** (1 / lam))\n"
     ]
    }
   ],
   "source": [
    "model:tbats[`seasonal_periods pykw (24,7, 365.25)]\n",
    "mdlfit:model[`:fit][trainamz`y]"
   ]
  },
  {
   "cell_type": "code",
   "execution_count": 7,
   "metadata": {},
   "outputs": [
    {
     "data": {
      "text/plain": [
       "\"The Mean squared error is 120640.4\"\n"
      ]
     },
     "execution_count": 7,
     "metadata": {},
     "output_type": "execute_result"
    }
   ],
   "source": [
    "preds:mdlfit[`:forecast][`steps pykw count testamz]`\n",
    "\n",
    "-1!\"The Mean squared error is \",string .ml.mse[preds;testamz`y]"
   ]
  },
  {
   "cell_type": "markdown",
   "metadata": {},
   "source": [
    "## Daily Temp"
   ]
  },
  {
   "cell_type": "code",
   "execution_count": 8,
   "metadata": {},
   "outputs": [
    {
     "name": "stdout",
     "output_type": "stream",
     "text": [
      "ds                            y   \n",
      "----------------------------------\n",
      "1981.01.01D00:00:00.000000000 20.7\n",
      "1981.01.02D00:00:00.000000000 17.9\n",
      "1981.01.03D00:00:00.000000000 18.8\n",
      "1981.01.04D00:00:00.000000000 14.6\n",
      "1981.01.05D00:00:00.000000000 15.8\n",
      "1981.01.06D00:00:00.000000000 15.8\n",
      "1981.01.07D00:00:00.000000000 15.8\n",
      "1981.01.08D00:00:00.000000000 17.4\n",
      "1981.01.09D00:00:00.000000000 21.8\n",
      "1981.01.10D00:00:00.000000000 20  \n",
      "1981.01.11D00:00:00.000000000 16.2\n",
      "1981.01.12D00:00:00.000000000 13.3\n",
      "1981.01.13D00:00:00.000000000 16.7\n",
      "1981.01.14D00:00:00.000000000 21.5\n",
      "1981.01.15D00:00:00.000000000 25  \n",
      "1981.01.16D00:00:00.000000000 20.7\n",
      "1981.01.17D00:00:00.000000000 20.6\n",
      "1981.01.18D00:00:00.000000000 24.8\n",
      "1981.01.19D00:00:00.000000000 17.7\n",
      "1981.01.20D00:00:00.000000000 15.5\n",
      "..\n"
     ]
    }
   ],
   "source": [
    "show temp:`ds`y xcol (\"PF\";enlist\",\")0:`:data/dailytemp.csv"
   ]
  },
  {
   "cell_type": "code",
   "execution_count": 9,
   "metadata": {},
   "outputs": [
    {
     "data": {
      "text/plain": [
       "\"There is 2920 datapoints in he training set\"\n"
      ]
     },
     "execution_count": 9,
     "metadata": {},
     "output_type": "execute_result"
    },
    {
     "data": {
      "text/plain": [
       "\"There is 730 datapoints in he testing set\"\n"
      ]
     },
     "execution_count": 9,
     "metadata": {},
     "output_type": "execute_result"
    }
   ],
   "source": [
    "// Find the timestamp which splits the data 80/20\n",
    "split:min[temp`ds]+.8*max[temp`ds]-min[temp`ds]\n",
    "\n",
    "traintemp:select from temp where ds<=split\n",
    "testtemp:select from temp where ds>split\n",
    "\n",
    "-1!\"There is \",string[count traintemp],\" datapoints in he training set\"\n",
    "-1!\"There is \",string[count testtemp],\" datapoints in he testing set\""
   ]
  },
  {
   "cell_type": "code",
   "execution_count": 10,
   "metadata": {},
   "outputs": [],
   "source": [
    "model:tbats[`seasonal_periods pykw (24,7, 365.25)]\n",
    "mdlfit:model[`:fit][traintemp`y]"
   ]
  },
  {
   "cell_type": "code",
   "execution_count": 11,
   "metadata": {},
   "outputs": [
    {
     "data": {
      "text/plain": [
       "\"The Mean squared error is 0.2659451\"\n"
      ]
     },
     "execution_count": 11,
     "metadata": {},
     "output_type": "execute_result"
    }
   ],
   "source": [
    "preds:mdlfit[`:forecast][`steps pykw count testtemp]`\n",
    "\n",
    "-1!\"The Mean squared error is \",string .ml.rmsle[preds;testtemp`y]"
   ]
  },
  {
   "cell_type": "code",
   "execution_count": null,
   "metadata": {},
   "outputs": [],
   "source": []
  }
 ],
 "metadata": {
  "kernelspec": {
   "display_name": "Q (kdb+)",
   "language": "q",
   "name": "qpk"
  },
  "language_info": {
   "file_extension": ".q",
   "mimetype": "text/x-q",
   "name": "q",
   "version": "3.6.0"
  }
 },
 "nbformat": 4,
 "nbformat_minor": 2
}
