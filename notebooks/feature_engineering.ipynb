{
 "cells": [
  {
   "cell_type": "markdown",
   "metadata": {},
   "source": [
    "# Time Series Feature Engineering"
   ]
  },
  {
   "cell_type": "markdown",
   "metadata": {},
   "source": [
    "This notebook gives a demo of how feature engineering can be applied to a time series dataset in order to pass the dataset to a supervised model"
   ]
  },
  {
   "cell_type": "code",
   "execution_count": 1,
   "metadata": {},
   "outputs": [],
   "source": [
    "\\l ml/ml.q\n",
    "\\l ml/init.q\n",
    "\\l ../code/arimamdl.q\n",
    "\\l ../code/utils.q\n",
    "\\l ../code/feat.q\n",
    "\\l ../code/graphics.q\n",
    "\\l ../utils.q\n",
    "\\l ../code/upd_feat.q"
   ]
  },
  {
   "cell_type": "markdown",
   "metadata": {},
   "source": [
    "### Data Preparation\n",
    "\n",
    "Load in the data\n",
    "\n",
    "The dataset is a provided by TFL to predict future bike sales per hour. Additional data is also given in the form of seasonality and climate information such as season, indication of whether it is a holiday, temperature, wind_speed, current weather etc .\n",
    "\n",
    "For the purpose of these notebook, when predictions are being made, it is assumed that these climate information will be available based off future weather predictions. "
   ]
  },
  {
   "cell_type": "code",
   "execution_count": 2,
   "metadata": {},
   "outputs": [
    {
     "name": "stdout",
     "output_type": "stream",
     "text": [
      "timestamp                     cnt  t1  t2   hum  wind_speed weather_code is_h..\n",
      "-----------------------------------------------------------------------------..\n",
      "2015.01.04D00:00:00.000000000 182  3   2    93   6          3            0   ..\n",
      "2015.01.04D01:00:00.000000000 138  3   2.5  93   5          1            0   ..\n",
      "2015.01.04D02:00:00.000000000 134  2.5 2.5  96.5 0          1            0   ..\n",
      "2015.01.04D03:00:00.000000000 72   2   2    100  0          1            0   ..\n",
      "2015.01.04D04:00:00.000000000 47   2   0    93   6.5        1            0   ..\n",
      "2015.01.04D05:00:00.000000000 46   2   2    93   4          1            0   ..\n",
      "2015.01.04D06:00:00.000000000 51   1   -1   100  7          4            0   ..\n",
      "2015.01.04D07:00:00.000000000 75   1   -1   100  7          4            0   ..\n",
      "2015.01.04D08:00:00.000000000 131  1.5 -1   96.5 8          4            0   ..\n",
      "2015.01.04D09:00:00.000000000 301  2   -0.5 100  9          3            0   ..\n",
      "2015.01.04D10:00:00.000000000 528  3   -0.5 93   12         3            0   ..\n",
      "2015.01.04D11:00:00.000000000 727  2   -1.5 100  12         3            0   ..\n",
      "2015.01.04D12:00:00.000000000 862  2   -1.5 96.5 13         4            0   ..\n",
      "2015.01.04D13:00:00.000000000 916  3   -0.5 87   15         3            0   ..\n",
      "2015.01.04D14:00:00.000000000 1039 2.5 0    90   8          3            0   ..\n",
      "2015.01.04D15:00:00.000000000 869  2   -1.5 93   11         3            0   ..\n",
      "2015.01.04D16:00:00.000000000 737  3   0    93   12         3            0   ..\n",
      "2015.01.04D17:00:00.000000000 594  3   0    93   11         3            0   ..\n",
      "2015.01.04D18:00:00.000000000 522  3   1.5  93   6.5        3            0   ..\n",
      "2015.01.04D19:00:00.000000000 379  3   1    93   7          3            0   ..\n",
      "..\n"
     ]
    }
   ],
   "source": [
    "show bikes:(\"PFFFFFFBFF\";enlist \",\")0:`:../data/london_merged.csv"
   ]
  },
  {
   "cell_type": "markdown",
   "metadata": {},
   "source": [
    "Missing timestamps values must be added and then back/forward filled in order for the model to pick up on the trends in the dataset"
   ]
  },
  {
   "cell_type": "code",
   "execution_count": 3,
   "metadata": {},
   "outputs": [],
   "source": [
    "// Include any missing datetimes\n",
    "bikes:datefill[`timestamp;bikes;01:00:00.000]\n",
    "\n",
    "// Timestamp component is broken into its constituent parts\n",
    "bikes:.ml.timesplit[bikes;`timestamp]\n",
    "\n",
    "// Back and forward fill the missing data\n",
    "bikes:.ml.dropconstant[.ml.filltab[bikes;();`timestamp;::]]"
   ]
  },
  {
   "cell_type": "code",
   "execution_count": 4,
   "metadata": {},
   "outputs": [],
   "source": [
    "// Delete any null_ cols - too many 0 values for model to preform well\n",
    "delcols:cols[bikes] where cols[bikes] like\"*_null\"\n",
    "\n",
    "bikes:![bikes;();0b;delcols]"
   ]
  },
  {
   "cell_type": "markdown",
   "metadata": {},
   "source": [
    "## Feature Engineering"
   ]
  },
  {
   "cell_type": "markdown",
   "metadata": {},
   "source": [
    "### Important things to note\n",
    "\n",
    "#### Forecast Point\n",
    "When creating features in a time series dataset, knowing how at what point in the past the features are being made (the `Forecast Point`) is important to ensure that no data leakage occurs. This means that if forecasts are being made for the following week, then features can only be created up to the week before, at the time of prediction. Adding features during training that are not available during testing will skew the results.\n",
    "\n",
    "#### Available Features at Prediction Time \n",
    "Also for future forecasts, knowing what exogenous variables that you'll have when making the forecasts is important. If the future value of a column will not be available at the time of prediction then it should not be included in the training of the model.\n",
    "\n",
    "For the below example, we are assuming that the future values of the weather columns will not be availble. Only lagged and windowed feature weather columns will be included\n",
    "\n",
    "#### Length of Lagged/ Window Features to use\n",
    "When deciding what lagged and window lengths to use, it is also worth noting that the larger the length that you use, the less data that is available for training. For example, if a lagged period of `N` is chosen, then the first `N` rows will have to removed as the features are null.\n",
    "\n",
    "#### Predicting future values\n",
    "When predicting future values, it is important that the correct amount of past values is given to the model so that it can create the appropriate features for predictions. i.e if the lagged feature length is 1 week, then to predict the next value, at least 1 week of past values must be given to the model "
   ]
  },
  {
   "cell_type": "markdown",
   "metadata": {},
   "source": [
    "### Lagged Values"
   ]
  },
  {
   "cell_type": "markdown",
   "metadata": {},
   "source": [
    "`tslag`\n",
    "\n",
    "Add lagged feature columns to the dataset\n",
    "\n",
    "`tab` - table to create the features from\n",
    "\n",
    "`col_names` - list of columns to extract the past values from \n",
    "\n",
    "`lags` - list of past values to extract"
   ]
  },
  {
   "cell_type": "markdown",
   "metadata": {},
   "source": [
    "The function returns a the table with the additional lagged feature columns"
   ]
  },
  {
   "cell_type": "markdown",
   "metadata": {},
   "source": [
    "In the below example we are extracting previous values on all columns except columns that were produced from `.ml.timesplit` and any other time based feature. Previous values at times 12 and 24 hours in the past are extracted."
   ]
  },
  {
   "cell_type": "code",
   "execution_count": 5,
   "metadata": {},
   "outputs": [],
   "source": [
    "// Choose what columns to extract features from \n",
    "\n",
    "// remove timestamp cols from list\n",
    "collst:cols[bikes] where not cols[bikes]like \"*timestamp*\"\n",
    "collst:collst except `season`is_weekend"
   ]
  },
  {
   "cell_type": "code",
   "execution_count": 6,
   "metadata": {},
   "outputs": [
    {
     "name": "stdout",
     "output_type": "stream",
     "text": [
      "cnt  t1  t2   hum  wind_speed weather_code is_weekend season timestamp_dow ti..\n",
      "-----------------------------------------------------------------------------..\n",
      "182  3   2    93   6          3            1          3      1             20..\n",
      "138  3   2.5  93   5          1            1          3      1             20..\n",
      "134  2.5 2.5  96.5 0          1            1          3      1             20..\n",
      "72   2   2    100  0          1            1          3      1             20..\n",
      "47   2   0    93   6.5        1            1          3      1             20..\n",
      "46   2   2    93   4          1            1          3      1             20..\n",
      "51   1   -1   100  7          4            1          3      1             20..\n",
      "75   1   -1   100  7          4            1          3      1             20..\n",
      "131  1.5 -1   96.5 8          4            1          3      1             20..\n",
      "301  2   -0.5 100  9          3            1          3      1             20..\n",
      "528  3   -0.5 93   12         3            1          3      1             20..\n",
      "727  2   -1.5 100  12         3            1          3      1             20..\n",
      "862  2   -1.5 96.5 13         4            1          3      1             20..\n",
      "916  3   -0.5 87   15         3            1          3      1             20..\n",
      "1039 2.5 0    90   8          3            1          3      1             20..\n",
      "869  2   -1.5 93   11         3            1          3      1             20..\n",
      "737  3   0    93   12         3            1          3      1             20..\n",
      "594  3   0    93   11         3            1          3      1             20..\n",
      "522  3   1.5  93   6.5        3            1          3      1             20..\n",
      "379  3   1    93   7          3            1          3      1             20..\n",
      "..\n"
     ]
    }
   ],
   "source": [
    "show lagtab:.tm.tslag[bikes;collst;12 24]"
   ]
  },
  {
   "cell_type": "markdown",
   "metadata": {},
   "source": [
    "Example of new columns created"
   ]
  },
  {
   "cell_type": "code",
   "execution_count": 7,
   "metadata": {},
   "outputs": [
    {
     "data": {
      "text/plain": [
       "weather_code_xprev_24 weather_code_xprev_12 wind_speed_xprev_24 wind_speed_xp..\n",
       "-----------------------------------------------------------------------------..\n",
       "3                     6                     93                  2            ..\n",
       "1                     5                     93                  2.5          ..\n",
       "1                     0                     96.5                2.5          ..\n",
       "1                     0                     100                 2            ..\n",
       "1                     6.5                   93                  0            ..\n",
       "1                     4                     93                  2            ..\n",
       "4                     7                     100                 -1           ..\n",
       "4                     7                     100                 -1           ..\n",
       "4                     8                     96.5                -1           ..\n",
       "3                     9                     100                 -0.5         ..\n",
       "3                     12                    93                  -0.5         ..\n",
       "3                     12                    100                 -1.5         ..\n",
       "4                     13                    96.5                -1.5         ..\n",
       "3                     15                    87                  -0.5         ..\n",
       "3                     8                     90                  0            ..\n",
       "3                     11                    93                  -1.5         ..\n",
       "3                     12                    93                  0            ..\n",
       "3                     11                    93                  0            ..\n",
       "3                     6.5                   93                  1.5          ..\n",
       "3                     7                     93                  1            ..\n",
       "..\n"
      ]
     },
     "execution_count": 7,
     "metadata": {},
     "output_type": "execute_result"
    }
   ],
   "source": [
    "24_reverse each lagtab"
   ]
  },
  {
   "cell_type": "markdown",
   "metadata": {},
   "source": [
    "### Windowed Features"
   ]
  },
  {
   "cell_type": "markdown",
   "metadata": {},
   "source": [
    "`tswindow`\n",
    "\n",
    "Add windowed feature columns to the dataset\n",
    "\n",
    "`tab` - table to create the features from\n",
    "\n",
    "`col_names` - list of columns to apply the transformations to\n",
    "\n",
    "`funcs` - list of symbol functions to apply over the window (eg ``` `min `max `avg ```). Other functions can also be passed to the model as long it takes a list as input, and returns a single value\n",
    "\n",
    "`wins` - list of window sizes over which to apply the functions"
   ]
  },
  {
   "cell_type": "markdown",
   "metadata": {},
   "source": [
    "The function returns a the table with the additional windowed feature columns"
   ]
  },
  {
   "cell_type": "markdown",
   "metadata": {},
   "source": [
    "Similar to above, we are applying windowed features to the same columns. Windowed features of 24, 48 and 168 hours into the past were chosen and `avg`, `max`, `dev` and `med` functions were applied to the data "
   ]
  },
  {
   "cell_type": "code",
   "execution_count": 8,
   "metadata": {},
   "outputs": [
    {
     "name": "stdout",
     "output_type": "stream",
     "text": [
      "cnt  t1  t2   hum  wind_speed weather_code is_weekend season timestamp_dow ti..\n",
      "-----------------------------------------------------------------------------..\n",
      "360  4.5 0.5  72.5 22         1            1          3      1             20..\n",
      "255  4   -0.5 75   22         1            1          3      1             20..\n",
      "198  4   -0.5 75   23         1            1          3      1             20..\n",
      "135  4   -1   75   27         2            1          3      1             20..\n",
      "74   4   -1   72.5 28         1            1          3      1             20..\n",
      "57   4   -1   70   27         1            1          3      1             20..\n",
      "67   4.5 0    68   24         1            1          3      1             20..\n",
      "93   5   1    66   24         1            1          3      1             20..\n",
      "241  5   0    66   29.5       1            1          3      1             20..\n",
      "538  5.5 0.5  63.5 29         1            1          3      1             20..\n",
      "922  6.5 2    61   30         1            1          3      1             20..\n",
      "1248 7.5 3.5  59   27         1            1          3      1             20..\n",
      "1555 8.5 4.5  55.5 27         1            1          3      1             20..\n",
      "1813 9   5    56   28         2            1          3      1             20..\n",
      "1639 9   5    60   28         2            1          3      1             20..\n",
      "1464 8.5 5    64   26         3            1          3      1             20..\n",
      "1097 8   4.5  66   23         3            1          3      1             20..\n",
      "827  8   5    71   20.5       7            1          3      1             20..\n",
      "519  8   4    73.5 25         7            1          3      1             20..\n",
      "493  8   4    73.5 24         3            1          3      1             20..\n",
      "..\n"
     ]
    }
   ],
   "source": [
    "show wndtab:.tm.tswindow[lagtab;collst;`avg`max`dev`med;12 24 168]"
   ]
  },
  {
   "cell_type": "markdown",
   "metadata": {},
   "source": [
    "Example of new columns created"
   ]
  },
  {
   "cell_type": "code",
   "execution_count": 9,
   "metadata": {},
   "outputs": [
    {
     "data": {
      "text/plain": [
       "med_168_weather_code med_168_wind_speed med_168_hum med_168_t2 med_168_t1 med..\n",
       "-----------------------------------------------------------------------------..\n",
       "2                    23                 71          4          7          675..\n",
       "2                    23                 71          4          7          675..\n",
       "2                    23                 71          4          7          675..\n",
       "2                    22.75              71          4          7          675..\n",
       "2                    22.25              71          4          7          675..\n",
       "2                    22                 71          4          7          675..\n",
       "2                    22                 71          4          7          675..\n",
       "2                    22                 71          4          7          675..\n",
       "2                    22                 71          4          7          675..\n",
       "2                    22                 71          4          7          675..\n",
       "2                    21.75              71.75       4          7          675..\n",
       "2                    21.5               72.5        4          7          675..\n",
       "2                    21.25              72.5        4          7          675..\n",
       "2                    21                 72.5        4          7          675..\n",
       "2                    21                 72.5        4          7          675..\n",
       "2                    21                 72.5        4          7          675..\n",
       "2                    21                 72.75       3.75       7          675..\n",
       "2                    21                 73          3.5        7          675..\n",
       "2                    21                 73          3.5        7          687..\n",
       "2                    21                 73          3.5        7          687..\n",
       "..\n"
      ]
     },
     "execution_count": 9,
     "metadata": {},
     "output_type": "execute_result"
    }
   ],
   "source": [
    "168_reverse each wndtab"
   ]
  },
  {
   "cell_type": "markdown",
   "metadata": {},
   "source": [
    "The data is then split into training and testing sets based on a temporal split. The first 168 hours are dropped to get rid of any null values. Backfilling in this scenario would not be appropriate"
   ]
  },
  {
   "cell_type": "code",
   "execution_count": 10,
   "metadata": {},
   "outputs": [
    {
     "data": {
      "text/plain": [
       "\"There is 13766 datapoints in the training set\"\n"
      ]
     },
     "execution_count": 10,
     "metadata": {},
     "output_type": "execute_result"
    },
    {
     "data": {
      "text/plain": [
       "\"There is 3442 datapoints in the testing set\"\n"
      ]
     },
     "execution_count": 10,
     "metadata": {},
     "output_type": "execute_result"
    }
   ],
   "source": [
    "// Find the timestamp which splits the data 80/20\n",
    "tts:ttstm[168_delete cnt,t1,t2,hum,wind_speed,weather_code from wndtab;192_wndtab`cnt;0.2]\n",
    "\n",
    "// The data is then split into the training and testing sets\n",
    "xtrainbk:tts`xtrain\n",
    "ytrainbk:tts`ytrain\n",
    "xtestbk:tts`xtest\n",
    "ytestbk:tts`ytest\n",
    "\n",
    "\n",
    "-1!\"There is \",string[count xtrainbk],\" datapoints in the training set\"\n",
    "-1!\"There is \",string[count xtestbk],\" datapoints in the testing set\""
   ]
  },
  {
   "cell_type": "markdown",
   "metadata": {},
   "source": [
    "A significant features test is applied in order to find what features are important when predicting the target value"
   ]
  },
  {
   "cell_type": "code",
   "execution_count": 11,
   "metadata": {},
   "outputs": [
    {
     "name": "stdout",
     "output_type": "stream",
     "text": [
      "`timestamp_hh`cnt_xprev_12`t1_xprev_24`hum_xprev_12`hum_xprev_24`wind_speed_x..\n",
      "\n",
      "The number of original columns: 15\n",
      "\n",
      "The number of columns after time series feature engineering: 93\n",
      "\n",
      "The number of columns that were deemed to be significant: 86\n"
     ]
    }
   ],
   "source": [
    "show newc:.ml.fresh.significantfeatures[xtrainbk;ytrainbk;.ml.fresh.benjhoch 0.05]\n",
    "\n",
    "-1\"\\nThe number of original columns: \",string count cols bikes;\n",
    "-1\"\\nThe number of columns after time series feature engineering: \",string count cols xtrainbk;\n",
    "-1\"\\nThe number of columns that were deemed to be significant: \",string count newc;"
   ]
  },
  {
   "cell_type": "markdown",
   "metadata": {},
   "source": [
    "A basic Gradient Boost Regression model is used for predictions."
   ]
  },
  {
   "cell_type": "code",
   "execution_count": 12,
   "metadata": {},
   "outputs": [],
   "source": [
    "gbr:.p.import[`sklearn.ensemble]`:GradientBoostingRegressor;\n",
    "\n",
    "reg:gbr[`random_state pykw 0];\n",
    "\n",
    "reg[`:fit][flip xtrainbk[newc];ytrainbk];"
   ]
  },
  {
   "cell_type": "markdown",
   "metadata": {},
   "source": [
    "Predictions are then made on the test data"
   ]
  },
  {
   "cell_type": "code",
   "execution_count": 13,
   "metadata": {},
   "outputs": [
    {
     "name": "stdout",
     "output_type": "stream",
     "text": [
      "2155.508 2444.904 2791.374 3377.673 3381.193 2484.833 1837.703 1293.912 1074...\n"
     ]
    },
    {
     "data": {
      "text/plain": [
       "\"The Root mean squared log error is 0.576957\"\n"
      ]
     },
     "execution_count": 13,
     "metadata": {},
     "output_type": "execute_result"
    }
   ],
   "source": [
    "show predsbk:reg[`:predict][flip xtestbk[newc]]`\n",
    "\n",
    "-1!\"The Root mean squared log error is \",string .ml.rmsle[predsbk;ytestbk]"
   ]
  },
  {
   "cell_type": "code",
   "execution_count": 14,
   "metadata": {},
   "outputs": [
    {
     "data": {
      "image/png": "[encoded data removed]",
      "text/plain": [
       "<Figure size 460.8x345.6 with 1 Axes>"
      ]
     },
     "metadata": {},
     "output_type": "display_data"
    }
   ],
   "source": [
    "pltresult[300#predsbk;300#ytestbk;\"Count\"]"
   ]
  }
 ],
 "metadata": {
  "kernelspec": {
   "display_name": "Q (kdb+)",
   "language": "q",
   "name": "qpk"
  },
  "language_info": {
   "file_extension": ".q",
   "mimetype": "text/x-q",
   "name": "q",
   "version": "3.6.0"
  }
 },
 "nbformat": 4,
 "nbformat_minor": 2
}
