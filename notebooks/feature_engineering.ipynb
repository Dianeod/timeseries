{
 "cells": [
  {
   "cell_type": "markdown",
   "metadata": {},
   "source": [
    "# Time Series Feature Engineering"
   ]
  },
  {
   "cell_type": "markdown",
   "metadata": {},
   "source": [
    "This notebook gives a demo of how feature engineering can be applied to a time series dataset in order to pass the dataset to a supervised model"
   ]
  },
  {
   "cell_type": "code",
   "execution_count": null,
   "metadata": {},
   "outputs": [],
   "source": [
    "\\l ml/ml.q\n",
    "\\l ml/init.q\n",
    "\\l ../code/arimamdl.q\n",
    "\\l ../code/utils.q\n",
    "\\l ../code/feat.q\n",
    "\\l ../code/graphics.q\n",
    "\\l ../utils.q\n",
    "\n",
    "plt:.p.import[`matplotlib.pyplot]"
   ]
  },
  {
   "cell_type": "markdown",
   "metadata": {},
   "source": [
    "### Data Preparation\n",
    "\n",
    "Load in the data\n",
    "\n",
    "The dataset is a provided by TFL to predict future bike sales per hour. Additional data is also given in the form of seasonality and climate information such as season, indication of whether it is a holiday, temperature, wind_speed, current weather etc .\n",
    "\n",
    "For the purpose of these notebook, when predictions are being made, it is assumed that these climate information will be available based off future weather predictions. "
   ]
  },
  {
   "cell_type": "code",
   "execution_count": 2,
   "metadata": {},
   "outputs": [
    {
     "name": "stdout",
     "output_type": "stream",
     "text": [
      "timestamp                     cnt  t1  t2   hum  wind_speed weather_code is_h..\n",
      "-----------------------------------------------------------------------------..\n",
      "2015.01.04D00:00:00.000000000 182  3   2    93   6          3            0   ..\n",
      "2015.01.04D01:00:00.000000000 138  3   2.5  93   5          1            0   ..\n",
      "2015.01.04D02:00:00.000000000 134  2.5 2.5  96.5 0          1            0   ..\n",
      "2015.01.04D03:00:00.000000000 72   2   2    100  0          1            0   ..\n",
      "2015.01.04D04:00:00.000000000 47   2   0    93   6.5        1            0   ..\n",
      "2015.01.04D05:00:00.000000000 46   2   2    93   4          1            0   ..\n",
      "2015.01.04D06:00:00.000000000 51   1   -1   100  7          4            0   ..\n",
      "2015.01.04D07:00:00.000000000 75   1   -1   100  7          4            0   ..\n",
      "2015.01.04D08:00:00.000000000 131  1.5 -1   96.5 8          4            0   ..\n",
      "2015.01.04D09:00:00.000000000 301  2   -0.5 100  9          3            0   ..\n",
      "2015.01.04D10:00:00.000000000 528  3   -0.5 93   12         3            0   ..\n",
      "2015.01.04D11:00:00.000000000 727  2   -1.5 100  12         3            0   ..\n",
      "2015.01.04D12:00:00.000000000 862  2   -1.5 96.5 13         4            0   ..\n",
      "2015.01.04D13:00:00.000000000 916  3   -0.5 87   15         3            0   ..\n",
      "2015.01.04D14:00:00.000000000 1039 2.5 0    90   8          3            0   ..\n",
      "2015.01.04D15:00:00.000000000 869  2   -1.5 93   11         3            0   ..\n",
      "2015.01.04D16:00:00.000000000 737  3   0    93   12         3            0   ..\n",
      "2015.01.04D17:00:00.000000000 594  3   0    93   11         3            0   ..\n",
      "2015.01.04D18:00:00.000000000 522  3   1.5  93   6.5        3            0   ..\n",
      "2015.01.04D19:00:00.000000000 379  3   1    93   7          3            0   ..\n",
      "..\n"
     ]
    }
   ],
   "source": [
    "show bikes:(\"PFFFFFFBFF\";enlist \",\")0:`:../data/london_merged.csv"
   ]
  },
  {
   "cell_type": "markdown",
   "metadata": {},
   "source": [
    "Missing timestamps values must be added and then back/forward filled in order for the model to pick up on the trends in the dataset"
   ]
  },
  {
   "cell_type": "code",
   "execution_count": 3,
   "metadata": {},
   "outputs": [],
   "source": [
    "// Include any missing datetimes\n",
    "bikes:datefill[`timestamp;bikes;01:00:00.000]\n",
    "\n",
    "// Timestamp component is broken into its constituent parts\n",
    "bikes:.ml.timesplit[bikes;`timestamp]\n",
    "\n",
    "// Back and forward fill the missing data\n",
    "bikes:.ml.dropconstant[.ml.filltab[bikes;();`timestamp;::]]"
   ]
  },
  {
   "cell_type": "code",
   "execution_count": 4,
   "metadata": {},
   "outputs": [],
   "source": [
    "// Delete any null_ cols - too many 0 values for model to preform well\n",
    "delcols:cols[bikes] where cols[bikes] like\"*_null\"\n",
    "\n",
    "bikes:![bikes;();0b;delcols]"
   ]
  },
  {
   "cell_type": "markdown",
   "metadata": {},
   "source": [
    "## Feature Engineering"
   ]
  },
  {
   "cell_type": "markdown",
   "metadata": {},
   "source": [
    "When creating features in a time series dataset, knowing how at what point in the past the features are being made (the `Forecast Point`) is important to ensure that no data leakage occurs. This means that if forecasts are being made for the following week, then features can only be created up to the week before, at the time of prediction. Adding features during training that are not available during testing will skew the results.\n",
    "\n",
    "Also for future forecasts, knowing what exogenous variables that you'll have when making the forecasts is important. If the future value of a column will not be available at the time of prediction then it should not be included in the training of the model.\n",
    "\n",
    "For the below example, we are assuming that the future values of the weather columns will not be availble. Only lagged and windowed feature weather columns will be included"
   ]
  },
  {
   "cell_type": "markdown",
   "metadata": {},
   "source": [
    "### Lagged Values"
   ]
  },
  {
   "cell_type": "markdown",
   "metadata": {},
   "source": [
    "`addFeatLag`\n",
    "\n",
    "Add lagged feature columns to the dataset\n",
    "\n",
    "`tab` - table to create the features from\n",
    "\n",
    "`n` - list of past values (from forecast point) to extract\n",
    "\n",
    "`fp` - forecast point (the time a prediction is being made)\n",
    "\n",
    "`col` - list of columns to extract the past values from "
   ]
  },
  {
   "cell_type": "markdown",
   "metadata": {},
   "source": [
    "The function returns a the table with the additional lagged feature columns"
   ]
  },
  {
   "cell_type": "markdown",
   "metadata": {},
   "source": [
    "In the below example we are extracting previous values on all columns except columns that were produced from `.ml.timesplit`. Previous values at times 12, 24 and 168 hours in the past are extracted. The forecast point here is 24 hours (i.e we are predicting 24 hours in the future, so we are assuming that we are only using values that we have 24 hours before the intended prediction time)"
   ]
  },
  {
   "cell_type": "code",
   "execution_count": 5,
   "metadata": {},
   "outputs": [
    {
     "name": "stdout",
     "output_type": "stream",
     "text": [
      "cnt  t1  t2   hum  wind_speed weather_code is_weekend season timestamp_dow ti..\n",
      "-----------------------------------------------------------------------------..\n",
      "182  3   2    93   6          3            1          3      1             20..\n",
      "138  3   2.5  93   5          1            1          3      1             20..\n",
      "134  2.5 2.5  96.5 0          1            1          3      1             20..\n",
      "72   2   2    100  0          1            1          3      1             20..\n",
      "47   2   0    93   6.5        1            1          3      1             20..\n",
      "46   2   2    93   4          1            1          3      1             20..\n",
      "51   1   -1   100  7          4            1          3      1             20..\n",
      "75   1   -1   100  7          4            1          3      1             20..\n",
      "131  1.5 -1   96.5 8          4            1          3      1             20..\n",
      "301  2   -0.5 100  9          3            1          3      1             20..\n",
      "528  3   -0.5 93   12         3            1          3      1             20..\n",
      "727  2   -1.5 100  12         3            1          3      1             20..\n",
      "862  2   -1.5 96.5 13         4            1          3      1             20..\n",
      "916  3   -0.5 87   15         3            1          3      1             20..\n",
      "1039 2.5 0    90   8          3            1          3      1             20..\n",
      "869  2   -1.5 93   11         3            1          3      1             20..\n",
      "737  3   0    93   12         3            1          3      1             20..\n",
      "594  3   0    93   11         3            1          3      1             20..\n",
      "522  3   1.5  93   6.5        3            1          3      1             20..\n",
      "379  3   1    93   7          3            1          3      1             20..\n",
      "..\n"
     ]
    }
   ],
   "source": [
    "show lagtab:.tm.addFeatLag[bikes;12 24 168;24;cols[bikes] where not cols[bikes]like \"*timestamp*\"]"
   ]
  },
  {
   "cell_type": "markdown",
   "metadata": {},
   "source": [
    "### Windowed Features"
   ]
  },
  {
   "cell_type": "markdown",
   "metadata": {},
   "source": [
    "`addFeatWind`\n",
    "\n",
    "Add windowed feature columns to the dataset\n",
    "\n",
    "`tab` - table to create the features from\n",
    "\n",
    "`n` - list of window sizes over which to apply the functions\n",
    "\n",
    "`fp` - forecast point (the time a prediction is being made)\n",
    "\n",
    "`col` - list of columns to apply the transformations to\n",
    "\n",
    "`fnc` - list of symbol functions to apply over the window (eg ``` `min `max `avg ```)"
   ]
  },
  {
   "cell_type": "markdown",
   "metadata": {},
   "source": [
    "The function returns a the table with the additional windowed feature columns"
   ]
  },
  {
   "cell_type": "markdown",
   "metadata": {},
   "source": [
    "Similar to above, we are applying windowed features to the same columns using the same forecast point. We choose windowed features of 24, 48 and 186 hours into the past and apply `avg`, `max`, `dev` functions to the data "
   ]
  },
  {
   "cell_type": "code",
   "execution_count": 6,
   "metadata": {},
   "outputs": [
    {
     "name": "stdout",
     "output_type": "stream",
     "text": [
      "cnt  t1  t2   hum  wind_speed weather_code is_weekend season timestamp_dow ti..\n",
      "-----------------------------------------------------------------------------..\n",
      "182  3   2    93   6          3            1          3      1             20..\n",
      "138  3   2.5  93   5          1            1          3      1             20..\n",
      "134  2.5 2.5  96.5 0          1            1          3      1             20..\n",
      "72   2   2    100  0          1            1          3      1             20..\n",
      "47   2   0    93   6.5        1            1          3      1             20..\n",
      "46   2   2    93   4          1            1          3      1             20..\n",
      "51   1   -1   100  7          4            1          3      1             20..\n",
      "75   1   -1   100  7          4            1          3      1             20..\n",
      "131  1.5 -1   96.5 8          4            1          3      1             20..\n",
      "301  2   -0.5 100  9          3            1          3      1             20..\n",
      "528  3   -0.5 93   12         3            1          3      1             20..\n",
      "727  2   -1.5 100  12         3            1          3      1             20..\n",
      "862  2   -1.5 96.5 13         4            1          3      1             20..\n",
      "916  3   -0.5 87   15         3            1          3      1             20..\n",
      "1039 2.5 0    90   8          3            1          3      1             20..\n",
      "869  2   -1.5 93   11         3            1          3      1             20..\n",
      "737  3   0    93   12         3            1          3      1             20..\n",
      "594  3   0    93   11         3            1          3      1             20..\n",
      "522  3   1.5  93   6.5        3            1          3      1             20..\n",
      "379  3   1    93   7          3            1          3      1             20..\n",
      "..\n"
     ]
    }
   ],
   "source": [
    "show wndtab:.tm.addFeatWind[lagtab;12 24 168;24;cols[bikes] where not cols[bikes]like \"*timestamp*\";`avg`max`dev]"
   ]
  },
  {
   "cell_type": "markdown",
   "metadata": {},
   "source": [
    "The data is then split into training and testing sets based on a temporal split. The first 192 hours are dropped to get rid of any null values. Backfilling in this scenario would not be appropriate"
   ]
  },
  {
   "cell_type": "code",
   "execution_count": 13,
   "metadata": {},
   "outputs": [
    {
     "data": {
      "text/plain": [
       "\"There is 13881 datapoints in the training set\"\n"
      ]
     },
     "execution_count": 13,
     "metadata": {},
     "output_type": "execute_result"
    },
    {
     "data": {
      "text/plain": [
       "\"There is 3471 datapoints in the testing set\"\n"
      ]
     },
     "execution_count": 13,
     "metadata": {},
     "output_type": "execute_result"
    }
   ],
   "source": [
    "// Find the timestamp which splits the data 80/20\n",
    "tts:ttstm[192_delete cnt,t1,t2,hum,wind_speed,weather_code from wndtab;192_wndtab`cnt;0.2]\n",
    "\n",
    "// The data is then split into the training and testing sets\n",
    "xtrainbk:tts`xtrain\n",
    "ytrainbk:tts`ytrain\n",
    "xtestbk:tts`xtest\n",
    "ytestbk:tts`ytest\n",
    "\n",
    "\n",
    "-1!\"There is \",string[count xtrainbk],\" datapoints in the training set\"\n",
    "-1!\"There is \",string[count xtestbk],\" datapoints in the testing set\""
   ]
  },
  {
   "cell_type": "markdown",
   "metadata": {},
   "source": [
    "A significant features test is applied in order to find what features are important when predicting the target value"
   ]
  },
  {
   "cell_type": "code",
   "execution_count": 14,
   "metadata": {},
   "outputs": [
    {
     "name": "stdout",
     "output_type": "stream",
     "text": [
      "`timestamp_hh`cnt_xprev_12`cnt_xprev_24`cnt_xprev_168`t1_xprev_24`t1_xprev_16..\n"
     ]
    }
   ],
   "source": [
    "show newc:.ml.fresh.significantfeatures[xtrainbk;ytrainbk;.ml.fresh.benjhoch 0.05]"
   ]
  },
  {
   "cell_type": "markdown",
   "metadata": {},
   "source": [
    "A basic Gradient Boost Regression model is used for predictions."
   ]
  },
  {
   "cell_type": "code",
   "execution_count": 15,
   "metadata": {},
   "outputs": [],
   "source": [
    "gbr:.p.import[`sklearn.ensemble]`:GradientBoostingRegressor;\n",
    "\n",
    "reg:gbr[`random_state pykw 0];\n",
    "\n",
    "reg[`:fit][flip xtrainbk[newc];ytrainbk];"
   ]
  },
  {
   "cell_type": "markdown",
   "metadata": {},
   "source": [
    "Predictions are then made on the test data"
   ]
  },
  {
   "cell_type": "code",
   "execution_count": 16,
   "metadata": {},
   "outputs": [
    {
     "name": "stdout",
     "output_type": "stream",
     "text": [
      "2136.902 1286.943 1372.339 1712.559 1718.763 1816.663 1818.133 2356.583 3697...\n"
     ]
    },
    {
     "data": {
      "text/plain": [
       "\"The Root mean squared log error is 0.5737028\"\n"
      ]
     },
     "execution_count": 16,
     "metadata": {},
     "output_type": "execute_result"
    }
   ],
   "source": [
    "show predsbk:reg[`:predict][flip xtestbk[newc]]`\n",
    "\n",
    "-1!\"The Root mean squared log error is \",string .ml.rmsle[predsbk;ytestbk]"
   ]
  },
  {
   "cell_type": "code",
   "execution_count": 17,
   "metadata": {},
   "outputs": [
    {
     "data": {
      "image/png": "[encoded data removed]",
      "text/plain": [
       "<Figure size 460.8x345.6 with 1 Axes>"
      ]
     },
     "metadata": {},
     "output_type": "display_data"
    }
   ],
   "source": [
    "pltresult[300#predsbk;300#ytestbk;\"Count\"]"
   ]
  }
 ],
 "metadata": {
  "kernelspec": {
   "display_name": "Q (kdb+)",
   "language": "q",
   "name": "qpk"
  },
  "language_info": {
   "file_extension": ".q",
   "mimetype": "text/x-q",
   "name": "q",
   "version": "4.0"
  }
 },
 "nbformat": 4,
 "nbformat_minor": 2
}
