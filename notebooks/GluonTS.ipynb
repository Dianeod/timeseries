{
 "cells": [
  {
   "cell_type": "markdown",
   "metadata": {},
   "source": [
    "# GluonTS"
   ]
  },
  {
   "cell_type": "markdown",
   "metadata": {},
   "source": [
    "Gluon Time Series (GluonTS) is an open source deep learning API developed by Amazon and Microsoft which allows devolopers to easily build deep-learning based machine learning models using Apache MXNet for probabilistic time series forecasting.\n",
    "\n",
    "Gluonts provides functions for loading and preparing time series data with state of the art models readily availble that can be easily altered for the needs of the user. GluonTS offers various model architectures, such as sequence to sequence framework, autoregressive model networks and causal convolutions among various other methods.\n",
    "\n",
    "For a more in depth discussion of the capabilitites of the GluonTS framework, follow the [link](https://github.com/awslabs/gluon-ts)"
   ]
  },
  {
   "cell_type": "markdown",
   "metadata": {},
   "source": [
    "Load in the required libraries and python modules"
   ]
  },
  {
   "cell_type": "code",
   "execution_count": 1,
   "metadata": {},
   "outputs": [
    {
     "name": "stderr",
     "output_type": "stream",
     "text": [
      "INFO:root:Using CPU\n",
      "INFO:root:Using CPU\n"
     ]
    },
    {
     "name": "stdout",
     "output_type": "stream",
     "text": [
      "No shared object files for cutils.q, only q implementations available\n"
     ]
    }
   ],
   "source": [
    "evalpred:.p.import[`gluonts.evaluation.backtest]`:make_evaluation_predictions\n",
    "trainer:.p.import[`gluonts.trainer]`:Trainer\n",
    "deepar:.p.import[`gluonts.model.deepar]\n",
    "sff:.p.import[`gluonts.model.simple_feedforward]\n",
    "pd:.p.import[`pandas]\n",
    "pylst:.p.import[`builtins][`:list]\n",
    "plt:.p.import[`matplotlib.pyplot]\n",
    "\n",
    "\\l ml/ml.q\n",
    "\\l ml/init.q\n",
    "\\l ../utils.q"
   ]
  },
  {
   "cell_type": "markdown",
   "metadata": {},
   "source": [
    "## Daily Temp"
   ]
  },
  {
   "cell_type": "markdown",
   "metadata": {},
   "source": [
    "### Data Preparation"
   ]
  },
  {
   "cell_type": "markdown",
   "metadata": {},
   "source": [
    "Load in the required dataset.\n",
    "\n",
    "The below dataset contains the mimimum daily temperatures reached in Melbourne during the period from January 1981 - Decemeber 1990.\n",
    "\n",
    "Any null values are deleted from the dataset."
   ]
  },
  {
   "cell_type": "code",
   "execution_count": 2,
   "metadata": {},
   "outputs": [
    {
     "name": "stdout",
     "output_type": "stream",
     "text": [
      "date                          temp\n",
      "----------------------------------\n",
      "1981.01.01D00:00:00.000000000 20.7\n",
      "1981.01.02D00:00:00.000000000 17.9\n",
      "1981.01.03D00:00:00.000000000 18.8\n",
      "1981.01.04D00:00:00.000000000 14.6\n",
      "1981.01.05D00:00:00.000000000 15.8\n",
      "1981.01.06D00:00:00.000000000 15.8\n",
      "1981.01.07D00:00:00.000000000 15.8\n",
      "1981.01.08D00:00:00.000000000 17.4\n",
      "1981.01.09D00:00:00.000000000 21.8\n",
      "1981.01.10D00:00:00.000000000 20  \n",
      "1981.01.11D00:00:00.000000000 16.2\n",
      "1981.01.12D00:00:00.000000000 13.3\n",
      "1981.01.13D00:00:00.000000000 16.7\n",
      "1981.01.14D00:00:00.000000000 21.5\n",
      "1981.01.15D00:00:00.000000000 25  \n",
      "1981.01.16D00:00:00.000000000 20.7\n",
      "1981.01.17D00:00:00.000000000 20.6\n",
      "1981.01.18D00:00:00.000000000 24.8\n",
      "1981.01.19D00:00:00.000000000 17.7\n",
      "1981.01.20D00:00:00.000000000 15.5\n",
      "..\n"
     ]
    }
   ],
   "source": [
    "show mintemp:`date`temp xcol (\"PF\";enlist\",\")0:`:../data/dailytemp.csv\n",
    "\n",
    "// Delete any null values\n",
    "mintemp:delete from mintemp where temp =0N"
   ]
  },
  {
   "cell_type": "markdown",
   "metadata": {},
   "source": [
    "Any missing datetimes in the dataset are added for completeness.\n",
    "\n",
    "Backfilling and forward fillign are then used to fill in these gaps"
   ]
  },
  {
   "cell_type": "code",
   "execution_count": 3,
   "metadata": {},
   "outputs": [],
   "source": [
    "mintemp:datefill[`date;mintemp;1D]\n",
    "\n",
    "// Back and forward fill the missing data\n",
    "mintemp:.ml.filltab[mintemp;();`date;::]"
   ]
  },
  {
   "cell_type": "markdown",
   "metadata": {},
   "source": [
    "The data is plotted below to portray the trends and cycles present in the dataset"
   ]
  },
  {
   "cell_type": "code",
   "execution_count": 4,
   "metadata": {},
   "outputs": [
    {
     "name": "stderr",
     "output_type": "stream",
     "text": [
      "/Users/dianeodonoghue/miniconda3/lib/python3.7/site-packages/pandas/plotting/_matplotlib/converter.py:103: FutureWarning: Using an implicitly registered datetime converter for a matplotlib plotting method. The converter was registered by pandas on import. Future versions of pandas will require you to explicitly register matplotlib converters.\n",
      "\n",
      "To register the converters:\n",
      "\t>>> from pandas.plotting import register_matplotlib_converters\n",
      "\t>>> register_matplotlib_converters()\n",
      "  warnings.warn(msg, FutureWarning)\n"
     ]
    },
    {
     "data": {
      "image/png": "[encoded data removed]",
      "text/plain": [
       "<Figure size 460.8x345.6 with 1 Axes>"
      ]
     },
     "metadata": {},
     "output_type": "display_data"
    }
   ],
   "source": [
    "plttm[mintemp`date;mintemp`temp;\"Temp\"]"
   ]
  },
  {
   "cell_type": "markdown",
   "metadata": {},
   "source": [
    "The dataset is then split into training and testing datasets (80/20). The dataset is split by date to ensure that no time leakage occurs"
   ]
  },
  {
   "cell_type": "code",
   "execution_count": 5,
   "metadata": {},
   "outputs": [
    {
     "data": {
      "text/plain": [
       "\"There is 2921 datapoints in the training set\"\n"
      ]
     },
     "execution_count": 5,
     "metadata": {},
     "output_type": "execute_result"
    },
    {
     "data": {
      "text/plain": [
       "\"There is 731 datapoints in the testing set\"\n"
      ]
     },
     "execution_count": 5,
     "metadata": {},
     "output_type": "execute_result"
    }
   ],
   "source": [
    "// Find the timestamp which splits the data 80/20\n",
    "tts:ttstm[0.2;mintemp]\n",
    "\n",
    "traintemp:tts`train\n",
    "testtemp:tts`test\n",
    "\n",
    "-1!\"There is \",string[count traintemp],\" datapoints in the training set\"\n",
    "-1!\"There is \",string[count testtemp],\" datapoints in the testing set\""
   ]
  },
  {
   "cell_type": "markdown",
   "metadata": {},
   "source": [
    "In order for data to be passed through a GLuonTS model, the data must be in a specific format. This requires the data to have the following columns:\n",
    "\n",
    "Column          | Explanation\n",
    "----------------|-------------------------------\n",
    "target          | a list of target values\n",
    "start           | The start of the time series in a pandas timestamp format"
   ]
  },
  {
   "cell_type": "markdown",
   "metadata": {},
   "source": [
    "### Preprocessing the Training data"
   ]
  },
  {
   "cell_type": "code",
   "execution_count": 6,
   "metadata": {},
   "outputs": [
    {
     "name": "stdout",
     "output_type": "stream",
     "text": [
      "target                                                                       ..\n",
      "-----------------------------------------------------------------------------..\n",
      "20.7 17.9 18.8 14.6 15.8 15.8 15.8 17.4 21.8 20 16.2 13.3 16.7 21.5 25 20.7 2..\n"
     ]
    }
   ],
   "source": [
    "// The initial date is transformed into a pandas timestamp\n",
    "start:pd[`:Timestamp][\"j\"$(\"d\"$first traintemp`date)-1970.01.01;`freq pykw \"1H\";`unit pykw \"D\"]`\n",
    "\n",
    "// A table is made with the enlisted target values as the `target` column\n",
    "show tab:([]target:enlist traintemp`temp;start:start)"
   ]
  },
  {
   "cell_type": "markdown",
   "metadata": {},
   "source": [
    "This table must then be converted to a list of dictionaries in python. This then is transformed into a list of dictionaries using the `to_dict` attribute"
   ]
  },
  {
   "cell_type": "code",
   "execution_count": 7,
   "metadata": {},
   "outputs": [],
   "source": [
    "// Convert to a pandas DF\n",
    "gltab:.ml.tab2df tab\n",
    "\n",
    "// Convert to a dictionary with orient set to `records` \n",
    "gltab:gltab[`:to_dict][`orient pykw `records]"
   ]
  },
  {
   "cell_type": "markdown",
   "metadata": {},
   "source": [
    "GluonTS uses the model `ListDataset` to convert these dictionaries into a format that can be passed to the model.\n",
    "\n",
    "The frequency of the timeseries can also be set, common frequencies include:\n",
    "\n",
    "- `H` : Hourly\n",
    "- `D` : Daily\n",
    "- `M` : Monthly"
   ]
  },
  {
   "cell_type": "code",
   "execution_count": 8,
   "metadata": {},
   "outputs": [],
   "source": [
    "// import the gluonts transformer\n",
    "lstdata:.p.import[`gluonts.dataset.common]`:ListDataset\n",
    "\n",
    "// Convert the data to a gluonts format, setting the frequency to daily\n",
    "datalst:lstdata[gltab;`freq pykw \"D\"]"
   ]
  },
  {
   "cell_type": "markdown",
   "metadata": {},
   "source": [
    "### Configuring an estimator"
   ]
  },
  {
   "cell_type": "markdown",
   "metadata": {},
   "source": [
    "GlounTS comes with a number of prebuilt models with most models returning a probability distribution. These estimators include but are not limited to:\n",
    "\n",
    "- Simple Feedforward \n",
    "- Deep Auto Regressors\n",
    "- Reoccuccrent Neural Networks\n",
    "\n",
    "An extensive list of the available models can be found on the link provided at the start of this tutorial\n",
    "\n",
    "These models include required fields \n",
    "\n",
    " `freq`: The  frequency of the timeseries in the dataset\n",
    " \n",
    " `prediction_length` : The amount of datapoints the model is to predict i.e the length of the test data\n",
    " \n",
    " An optioned field `trainer` is also available, which allows you to alter the parameters of the configured model, such as number of epochs, training rate etc"
   ]
  },
  {
   "cell_type": "markdown",
   "metadata": {},
   "source": [
    "In the below model, a deep autoregrssive model is use, with the frequency set to 1 day, and prediction length set as the length of the testing data.\n",
    "\n",
    "The trainer is also altered to run for 15 epochs"
   ]
  },
  {
   "cell_type": "code",
   "execution_count": 9,
   "metadata": {},
   "outputs": [
    {
     "name": "stderr",
     "output_type": "stream",
     "text": [
      "INFO:root:Using CPU\n"
     ]
    }
   ],
   "source": [
    "// Initiate the model\n",
    "modeltemp:deepar[`:DeepAREstimator][`freq pykw \"1D\";`prediction_length pykw count testtemp;\n",
    "    `trainer pykw trainer[`epochs pykw 5]]"
   ]
  },
  {
   "cell_type": "markdown",
   "metadata": {},
   "source": [
    "### Training the model"
   ]
  },
  {
   "cell_type": "markdown",
   "metadata": {},
   "source": [
    "After constructing an estimator with the appropriate hyperparameters, the estimator is then fitted on the training data, which creates the `Predictor` in GluonTS parlance."
   ]
  },
  {
   "cell_type": "code",
   "execution_count": 10,
   "metadata": {
    "scrolled": true
   },
   "outputs": [
    {
     "name": "stderr",
     "output_type": "stream",
     "text": [
      "INFO:root:Start model training\n"
     ]
    },
    {
     "name": "stdout",
     "output_type": "stream",
     "text": [
      "learning rate from ``lr_scheduler`` has been overwritten by ``learning_rate`` in optimizer.\n"
     ]
    },
    {
     "name": "stderr",
     "output_type": "stream",
     "text": [
      "INFO:root:Epoch[0] Learning rate is 0.001\n",
      "  0%|          | 0/50 [00:00<?, ?it/s]INFO:root:Number of parameters in DeepARTrainingNetwork: 25884\n",
      "100%|██████████| 50/50 [01:46<00:00,  2.13s/it, avg_epoch_loss=2.87]\n",
      "INFO:root:Epoch[0] Elapsed time 106.685 seconds\n",
      "INFO:root:Epoch[0] Evaluation metric 'epoch_loss'=2.869765\n",
      "INFO:root:Epoch[1] Learning rate is 0.001\n",
      "100%|██████████| 50/50 [01:28<00:00,  1.76s/it, avg_epoch_loss=2.49]\n",
      "INFO:root:Epoch[1] Elapsed time 88.093 seconds\n",
      "INFO:root:Epoch[1] Evaluation metric 'epoch_loss'=2.486818\n",
      "INFO:root:Epoch[2] Learning rate is 0.001\n",
      "100%|██████████| 50/50 [01:17<00:00,  1.54s/it, avg_epoch_loss=2.42]\n",
      "INFO:root:Epoch[2] Elapsed time 77.011 seconds\n",
      "INFO:root:Epoch[2] Evaluation metric 'epoch_loss'=2.421322\n",
      "INFO:root:Epoch[3] Learning rate is 0.001\n",
      "100%|██████████| 50/50 [01:15<00:00,  1.51s/it, avg_epoch_loss=2.36]\n",
      "INFO:root:Epoch[3] Elapsed time 75.646 seconds\n",
      "INFO:root:Epoch[3] Evaluation metric 'epoch_loss'=2.358923\n",
      "INFO:root:Epoch[4] Learning rate is 0.001\n",
      "100%|██████████| 50/50 [01:18<00:00,  1.58s/it, avg_epoch_loss=2.32]\n",
      "INFO:root:Epoch[4] Elapsed time 78.914 seconds\n",
      "INFO:root:Epoch[4] Evaluation metric 'epoch_loss'=2.322074\n",
      "INFO:root:Loading parameters from best epoch (4)\n",
      "INFO:root:Final loss: 2.322073669433594 (occurred at epoch 4)\n",
      "INFO:root:End model training\n"
     ]
    },
    {
     "data": {
      "text/plain": [
       "427821 4196144\n"
      ]
     },
     "execution_count": 10,
     "metadata": {},
     "output_type": "execute_result"
    }
   ],
   "source": [
    "// The model is trained passing the gluonts as input\n",
    "\\ts predicttemp:modeltemp[`:train][`training_data pykw datalst]"
   ]
  },
  {
   "cell_type": "markdown",
   "metadata": {},
   "source": [
    "### Forecasting"
   ]
  },
  {
   "cell_type": "markdown",
   "metadata": {},
   "source": [
    "The complete dataset (training and testing data inclusive) must also be preprocessed using the same steps outlined for the training data."
   ]
  },
  {
   "cell_type": "code",
   "execution_count": 11,
   "metadata": {},
   "outputs": [
    {
     "name": "stdout",
     "output_type": "stream",
     "text": [
      "target                                                                       ..\n",
      "-----------------------------------------------------------------------------..\n",
      "20.7 17.9 18.8 14.6 15.8 15.8 15.8 17.4 21.8 20 16.2 13.3 16.7 21.5 25 20.7 2..\n"
     ]
    }
   ],
   "source": [
    "// The testing dataframe is transformed into a gluonts object, similar to above\n",
    "// The training and testing values are now included \n",
    "show tst:([]target:enlist mintemp`temp;start: start)\n",
    "\n",
    "tst:.ml.tab2df tst\n",
    "\n",
    "tsttab:tst[`:to_dict][`orient pykw `records]\n",
    "\n",
    "// Convert to gluonts format\n",
    "datalsttst:lstdata[tsttab;`freq pykw \"1D\"]"
   ]
  },
  {
   "cell_type": "markdown",
   "metadata": {},
   "source": [
    "This preprcoessed data can then be passed to the predictor, utilising the predict attribute of the model. When predicting forecasts, the model removes the final window from the dataset (equal to the length of the testing set, defined earlier in the notebook as `prediction_length`)\n",
    "\n",
    "This must then be converted to a list. \n",
    "\n",
    "This returns a glounts object which contains attributes such as the frequency of the timeseries, along with the forecasted predictions"
   ]
  },
  {
   "cell_type": "code",
   "execution_count": 12,
   "metadata": {},
   "outputs": [],
   "source": [
    "// The gluonts predicted object is converted to a list\n",
    "predstemp:pylst[predicttemp[`:predict][datalsttst]]`"
   ]
  },
  {
   "cell_type": "markdown",
   "metadata": {},
   "source": [
    "In order to extract the predicted forecasts, the `samples` attribute of the list is extracted.\n",
    "\n",
    "Multiple sample paths are created giving various \"realisations\" of the future predictions.\n",
    "\n",
    "The average of all these paths are used as the forecasted predictions"
   ]
  },
  {
   "cell_type": "code",
   "execution_count": 13,
   "metadata": {},
   "outputs": [
    {
     "data": {
      "text/plain": [
       "\"There are 100 sample paths\"\n"
      ]
     },
     "execution_count": 13,
     "metadata": {},
     "output_type": "execute_result"
    },
    {
     "data": {
      "text/plain": [
       "\"Each path has 731 forecasted predictions\"\n"
      ]
     },
     "execution_count": 13,
     "metadata": {},
     "output_type": "execute_result"
    }
   ],
   "source": [
    "// The samples from the list are extracted\n",
    "forecast_pathstemp:(.p.wrap[predstemp[0]])[`:samples]`\n",
    "\n",
    "-1!\"There are \",string[count[forecast_pathstemp]],\" sample paths\"\n",
    "-1!\"Each path has \",string[count[forecast_pathstemp[0]]],\" forecasted predictions\"\n",
    "\n",
    "// The average values of all these paths are taken as be the forecasted values\n",
    "forecaststemp:avg forecast_pathstemp"
   ]
  },
  {
   "cell_type": "markdown",
   "metadata": {},
   "source": [
    "The error is calculated for the forecasted values compared to the true values"
   ]
  },
  {
   "cell_type": "code",
   "execution_count": 14,
   "metadata": {},
   "outputs": [
    {
     "data": {
      "text/plain": [
       "\"The Mean Squared Error is 7.539904\"\n"
      ]
     },
     "execution_count": 14,
     "metadata": {},
     "output_type": "execute_result"
    }
   ],
   "source": [
    "-1!\"The Mean Squared Error is \" ,string .ml.mse[testtemp`temp;forecaststemp]"
   ]
  },
  {
   "cell_type": "markdown",
   "metadata": {},
   "source": [
    "The predicted and real values are also plotted to show how the models forecasted values varied from the true values"
   ]
  },
  {
   "cell_type": "code",
   "execution_count": 15,
   "metadata": {},
   "outputs": [
    {
     "data": {
      "image/png": "[encoded data removed]",
      "text/plain": [
       "<Figure size 460.8x345.6 with 1 Axes>"
      ]
     },
     "metadata": {},
     "output_type": "display_data"
    }
   ],
   "source": [
    "pltresult[400#forecaststemp;400#testtemp`temp;\"Temp\"]"
   ]
  },
  {
   "cell_type": "markdown",
   "metadata": {},
   "source": [
    "The forecasted values follow the same overall increasing and decreasing trend of the dataset, however fail to capturn the correct values of the peaks and troughs at smaller intervals"
   ]
  },
  {
   "cell_type": "markdown",
   "metadata": {},
   "source": [
    "## Bike Rental"
   ]
  },
  {
   "cell_type": "markdown",
   "metadata": {},
   "source": [
    "**In this section a more complex model is used with exogenous variables included in the training of the models**"
   ]
  },
  {
   "cell_type": "markdown",
   "metadata": {},
   "source": [
    "### Data Preparation"
   ]
  },
  {
   "cell_type": "markdown",
   "metadata": {},
   "source": [
    "Load in the data\n",
    "\n",
    "The dataset is a provided by TFL to predict future bike sales per hour. Additional data is also given in the form of seasonality and climate information such as season, indication of whether it is a holiday, temperature, wind_speed, current weather etc .\n",
    "\n",
    "For the purpose of these notebook, when predictions are being made, it is assumed that these climate information will be available based off future weather predictions. "
   ]
  },
  {
   "cell_type": "code",
   "execution_count": 16,
   "metadata": {},
   "outputs": [
    {
     "name": "stdout",
     "output_type": "stream",
     "text": [
      "timestamp                     cnt  t1  t2   hum  wind_speed weather_code is_h..\n",
      "-----------------------------------------------------------------------------..\n",
      "2015.01.04D00:00:00.000000000 182  3   2    93   6          3            0   ..\n",
      "2015.01.04D01:00:00.000000000 138  3   2.5  93   5          1            0   ..\n",
      "2015.01.04D02:00:00.000000000 134  2.5 2.5  96.5 0          1            0   ..\n",
      "2015.01.04D03:00:00.000000000 72   2   2    100  0          1            0   ..\n",
      "2015.01.04D04:00:00.000000000 47   2   0    93   6.5        1            0   ..\n",
      "2015.01.04D05:00:00.000000000 46   2   2    93   4          1            0   ..\n",
      "2015.01.04D06:00:00.000000000 51   1   -1   100  7          4            0   ..\n",
      "2015.01.04D07:00:00.000000000 75   1   -1   100  7          4            0   ..\n",
      "2015.01.04D08:00:00.000000000 131  1.5 -1   96.5 8          4            0   ..\n",
      "2015.01.04D09:00:00.000000000 301  2   -0.5 100  9          3            0   ..\n",
      "2015.01.04D10:00:00.000000000 528  3   -0.5 93   12         3            0   ..\n",
      "2015.01.04D11:00:00.000000000 727  2   -1.5 100  12         3            0   ..\n",
      "2015.01.04D12:00:00.000000000 862  2   -1.5 96.5 13         4            0   ..\n",
      "2015.01.04D13:00:00.000000000 916  3   -0.5 87   15         3            0   ..\n",
      "2015.01.04D14:00:00.000000000 1039 2.5 0    90   8          3            0   ..\n",
      "2015.01.04D15:00:00.000000000 869  2   -1.5 93   11         3            0   ..\n",
      "2015.01.04D16:00:00.000000000 737  3   0    93   12         3            0   ..\n",
      "2015.01.04D17:00:00.000000000 594  3   0    93   11         3            0   ..\n",
      "2015.01.04D18:00:00.000000000 522  3   1.5  93   6.5        3            0   ..\n",
      "2015.01.04D19:00:00.000000000 379  3   1    93   7          3            0   ..\n",
      "..\n"
     ]
    }
   ],
   "source": [
    "show bikes:(\"PFFFFFFBFF\";enlist \",\")0:`:../data/london_merged.csv"
   ]
  },
  {
   "cell_type": "markdown",
   "metadata": {},
   "source": [
    "The trends over time for the data is plotted below which shows that cyclical patterns are present in the dataset"
   ]
  },
  {
   "cell_type": "code",
   "execution_count": 17,
   "metadata": {},
   "outputs": [
    {
     "data": {
      "image/png": "[encoded data removed]",
      "text/plain": [
       "<Figure size 460.8x345.6 with 1 Axes>"
      ]
     },
     "metadata": {},
     "output_type": "display_data"
    }
   ],
   "source": [
    "plttm[300#bikes`timestamp;300#bikes`cnt;\"Count\"]"
   ]
  },
  {
   "cell_type": "markdown",
   "metadata": {},
   "source": [
    "The missing datetimes in the dataset are included, back and forward filling is used to fill these gaps.\n",
    "\n"
   ]
  },
  {
   "cell_type": "code",
   "execution_count": 18,
   "metadata": {},
   "outputs": [],
   "source": [
    "// Include any missing datetimes\n",
    "bikes:datefill[`timestamp;bikes;01:00:00.000]\n",
    "\n",
    "// Back and forward fill the missing data\n",
    "bikes:.ml.filltab[bikes;();`timestamp;::]"
   ]
  },
  {
   "cell_type": "markdown",
   "metadata": {},
   "source": [
    "The data is then split into  a training and testing set (Making sure that no time leakage occurs). \n",
    "\n",
    "80% is chosen as train, 20% is testing data."
   ]
  },
  {
   "cell_type": "code",
   "execution_count": 19,
   "metadata": {},
   "outputs": [
    {
     "data": {
      "text/plain": [
       "\"There is 14035 datapoints in the training set\"\n"
      ]
     },
     "execution_count": 19,
     "metadata": {},
     "output_type": "execute_result"
    },
    {
     "data": {
      "text/plain": [
       "\"There is 3509 datapoints in the testing set\"\n"
      ]
     },
     "execution_count": 19,
     "metadata": {},
     "output_type": "execute_result"
    }
   ],
   "source": [
    "// Find the timestamp which splits the data 80/20\n",
    "tts:ttstm[0.2;bikes]\n",
    "\n",
    "trainbk:tts`train\n",
    "testbk:tts`test\n",
    "\n",
    "-1!\"There is \",string[count trainbk],\" datapoints in the training set\"\n",
    "-1!\"There is \",string[count testbk],\" datapoints in the testing set\""
   ]
  },
  {
   "cell_type": "markdown",
   "metadata": {},
   "source": [
    "The training data is converted to a gluonts appropriate format, similar to the steps taken above.\n",
    "\n",
    "In this dataset, the frequency is set to be hourly"
   ]
  },
  {
   "cell_type": "code",
   "execution_count": 20,
   "metadata": {},
   "outputs": [],
   "source": [
    "// The initial date is transformed into a pandas timestamp\n",
    "start:pd[`:Timestamp][\"j\"$(\"d\"$first bikes`timestamp)-1970.01.01;`freq pykw \"1H\";`unit pykw \"D\"]`\n",
    "\n",
    "// A table is made with the enlisted target values as the `target` column and transformed to a pandas df\n",
    "tab:.ml.tab2df([]target:enlist trainbk`cnt;start:enlist start)\n",
    "\n",
    "// This is converted to a list of dictionaries\n",
    "newt:tab[`:to_dict][`orient pykw `records]\n",
    "\n",
    "// This is converted to a gluonts object\n",
    "datalstbk:lstdata[newt;`freq pykw \"1H\"]"
   ]
  },
  {
   "cell_type": "markdown",
   "metadata": {},
   "source": [
    "A Simple Feed Forward Estimator is initialised, defining the length and frequency of the training data. The parameters of the deep model are also altered, setting the epochs and learning rate to 20 and .001 respectively"
   ]
  },
  {
   "cell_type": "code",
   "execution_count": 21,
   "metadata": {},
   "outputs": [
    {
     "name": "stderr",
     "output_type": "stream",
     "text": [
      "INFO:root:Using CPU\n"
     ]
    }
   ],
   "source": [
    "modelbk:sff[`:SimpleFeedForwardEstimator][`freq pykw \"1H\";\n",
    "    `prediction_length pykw count testbk;`trainer pykw trainer[`epochs pykw 8;`learning_rate pykw 0.001]]"
   ]
  },
  {
   "cell_type": "markdown",
   "metadata": {},
   "source": [
    "The model is then trained using the gluonts formatted training data"
   ]
  },
  {
   "cell_type": "code",
   "execution_count": 22,
   "metadata": {
    "scrolled": true
   },
   "outputs": [
    {
     "name": "stderr",
     "output_type": "stream",
     "text": [
      "INFO:root:Start model training\n"
     ]
    },
    {
     "name": "stdout",
     "output_type": "stream",
     "text": [
      "learning rate from ``lr_scheduler`` has been overwritten by ``learning_rate`` in optimizer.\n"
     ]
    },
    {
     "name": "stderr",
     "output_type": "stream",
     "text": [
      "INFO:root:Epoch[0] Learning rate is 0.001\n",
      "  0%|          | 0/50 [00:00<?, ?it/s]INFO:root:Number of parameters in SimpleFeedForwardTrainingNetwork: 5895283\n",
      "100%|██████████| 50/50 [00:07<00:00,  6.81it/s, avg_epoch_loss=8.16]\n",
      "INFO:root:Epoch[0] Elapsed time 7.349 seconds\n",
      "INFO:root:Epoch[0] Evaluation metric 'epoch_loss'=8.159303\n",
      "INFO:root:Epoch[1] Learning rate is 0.001\n",
      "100%|██████████| 50/50 [00:07<00:00,  6.39it/s, avg_epoch_loss=7.79]\n",
      "INFO:root:Epoch[1] Elapsed time 7.828 seconds\n",
      "INFO:root:Epoch[1] Evaluation metric 'epoch_loss'=7.793602\n",
      "INFO:root:Epoch[2] Learning rate is 0.001\n",
      "100%|██████████| 50/50 [00:07<00:00,  6.37it/s, avg_epoch_loss=7.7]\n",
      "INFO:root:Epoch[2] Elapsed time 7.848 seconds\n",
      "INFO:root:Epoch[2] Evaluation metric 'epoch_loss'=7.698230\n",
      "INFO:root:Epoch[3] Learning rate is 0.001\n",
      "100%|██████████| 50/50 [00:07<00:00,  7.01it/s, avg_epoch_loss=7.64]\n",
      "INFO:root:Epoch[3] Elapsed time 7.131 seconds\n",
      "INFO:root:Epoch[3] Evaluation metric 'epoch_loss'=7.636296\n",
      "INFO:root:Epoch[4] Learning rate is 0.001\n",
      "100%|██████████| 50/50 [00:07<00:00,  7.05it/s, avg_epoch_loss=7.62]\n",
      "INFO:root:Epoch[4] Elapsed time 7.088 seconds\n",
      "INFO:root:Epoch[4] Evaluation metric 'epoch_loss'=7.615595\n",
      "INFO:root:Epoch[5] Learning rate is 0.001\n",
      "100%|██████████| 50/50 [00:07<00:00,  7.04it/s, avg_epoch_loss=7.58]\n",
      "INFO:root:Epoch[5] Elapsed time 7.106 seconds\n",
      "INFO:root:Epoch[5] Evaluation metric 'epoch_loss'=7.583427\n",
      "INFO:root:Epoch[6] Learning rate is 0.001\n",
      "100%|██████████| 50/50 [00:07<00:00,  7.05it/s, avg_epoch_loss=7.56]\n",
      "INFO:root:Epoch[6] Elapsed time 7.091 seconds\n",
      "INFO:root:Epoch[6] Evaluation metric 'epoch_loss'=7.562433\n",
      "INFO:root:Epoch[7] Learning rate is 0.001\n",
      "100%|██████████| 50/50 [00:07<00:00,  6.84it/s, avg_epoch_loss=7.54]\n",
      "INFO:root:Epoch[7] Elapsed time 7.315 seconds\n",
      "INFO:root:Epoch[7] Evaluation metric 'epoch_loss'=7.541459\n",
      "INFO:root:Loading parameters from best epoch (7)\n",
      "INFO:root:Final loss: 7.541458568572998 (occurred at epoch 7)\n",
      "INFO:root:End model training\n"
     ]
    },
    {
     "data": {
      "text/plain": [
       "59680 4196144\n"
      ]
     },
     "execution_count": 22,
     "metadata": {},
     "output_type": "execute_result"
    }
   ],
   "source": [
    "\\ts predictbk:modelbk[`:train][`training_data pykw datalstbk]"
   ]
  },
  {
   "cell_type": "markdown",
   "metadata": {},
   "source": [
    "The steps applied to the training data is applied to the testing data to transform it into the appropriate format"
   ]
  },
  {
   "cell_type": "code",
   "execution_count": 23,
   "metadata": {},
   "outputs": [],
   "source": [
    "// The same methods as above are applied to the testing data\n",
    "start:pd[`:Timestamp][\"j\"$(\"d\"$first bikes`timestamp)-1970.01.01;`freq pykw \"1H\";`unit pykw \"D\"]`\n",
    "\n",
    "tst:([]target:enlist bikes[`cnt];start: start)\n",
    "\n",
    "tst:.ml.tab2df tst\n",
    "\n",
    "tsttab:tst[`:to_dict][`orient pykw `records]\n",
    "\n",
    "datalsttstbk:lstdata[tsttab;`freq pykw \"1H\"]"
   ]
  },
  {
   "cell_type": "markdown",
   "metadata": {},
   "source": [
    "The future data is forecasted by extracting the final window from the complete dataset, defined as `prediction_length` when initialising the model"
   ]
  },
  {
   "cell_type": "code",
   "execution_count": 24,
   "metadata": {},
   "outputs": [
    {
     "data": {
      "text/plain": [
       "\"There are 100 sample paths\"\n"
      ]
     },
     "execution_count": 24,
     "metadata": {},
     "output_type": "execute_result"
    },
    {
     "data": {
      "text/plain": [
       "\"Each path has 3509 forecasted predictions\"\n"
      ]
     },
     "execution_count": 24,
     "metadata": {},
     "output_type": "execute_result"
    }
   ],
   "source": [
    "// Future values are forecasted using the model\n",
    "predsbk:pylst[predictbk[`:predict][datalsttstbk]]`\n",
    "\n",
    "// The samples from the list are extracted\n",
    "forecast_pathsbk:(.p.wrap[predsbk[0]])[`:samples]`\n",
    "\n",
    "-1!\"There are \",string[count[forecast_pathsbk]],\" sample paths\"\n",
    "-1!\"Each path has \",string[count[forecast_pathsbk[0]]],\" forecasted predictions\"\n",
    "\n",
    "// The average values of all these paths are taken as be the forecasted values\n",
    "forecastsbk:avg forecast_pathsbk"
   ]
  },
  {
   "cell_type": "markdown",
   "metadata": {},
   "source": [
    "The error is calculated for the prediction values compared to the true values"
   ]
  },
  {
   "cell_type": "code",
   "execution_count": 25,
   "metadata": {},
   "outputs": [
    {
     "data": {
      "text/plain": [
       "\"The root mean squared log error is 1.730822\"\n"
      ]
     },
     "execution_count": 25,
     "metadata": {},
     "output_type": "execute_result"
    }
   ],
   "source": [
    "-1!\"The root mean squared log error is \" ,string .ml.rmsle[testbk`cnt;forecastsbk]"
   ]
  },
  {
   "cell_type": "markdown",
   "metadata": {},
   "source": [
    "The predicted and true values are plotted to compare"
   ]
  },
  {
   "cell_type": "code",
   "execution_count": 26,
   "metadata": {},
   "outputs": [
    {
     "data": {
      "image/png": "[encoded data removed]",
      "text/plain": [
       "<Figure size 460.8x345.6 with 1 Axes>"
      ]
     },
     "metadata": {},
     "output_type": "display_data"
    }
   ],
   "source": [
    "pltresult[300#forecastsbk;300#testbk`cnt;\"Count\"]"
   ]
  },
  {
   "cell_type": "markdown",
   "metadata": {},
   "source": [
    "Similar to above, the forecasted values seem to capture the overall trends present in the dataset but fail to predict the correct values of the peaks. The trough forecasts present sre relatively similar to that of the actual values."
   ]
  }
 ],
 "metadata": {
  "kernelspec": {
   "display_name": "Q (kdb+)",
   "language": "q",
   "name": "qpk"
  },
  "language_info": {
   "file_extension": ".q",
   "mimetype": "text/x-q",
   "name": "q",
   "version": "3.6.0"
  }
 },
 "nbformat": 4,
 "nbformat_minor": 4
}
